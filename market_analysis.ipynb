{
 "cells": [
  {
   "cell_type": "code",
   "execution_count": 2,
   "metadata": {},
   "outputs": [],
   "source": [
    "from pyspark.sql import SparkSession, functions\n",
    "from pyspark.sql.types import StructField ,StructType, StringType, IntegerType, DateType, DoubleType"
   ]
  },
  {
   "cell_type": "code",
   "execution_count": 3,
   "metadata": {},
   "outputs": [
    {
     "name": "stderr",
     "output_type": "stream",
     "text": [
      "WARNING: An illegal reflective access operation has occurred\n",
      "WARNING: Illegal reflective access by org.apache.spark.unsafe.Platform (file:/usr/local/spark-3.2.0-bin-hadoop3.2/jars/spark-unsafe_2.12-3.2.0.jar) to constructor java.nio.DirectByteBuffer(long,int)\n",
      "WARNING: Please consider reporting this to the maintainers of org.apache.spark.unsafe.Platform\n",
      "WARNING: Use --illegal-access=warn to enable warnings of further illegal reflective access operations\n",
      "WARNING: All illegal access operations will be denied in a future release\n",
      "Using Spark's default log4j profile: org/apache/spark/log4j-defaults.properties\n",
      "Setting default log level to \"WARN\".\n",
      "To adjust logging level use sc.setLogLevel(newLevel). For SparkR, use setLogLevel(newLevel).\n",
      "22/01/03 01:18:20 WARN NativeCodeLoader: Unable to load native-hadoop library for your platform... using builtin-java classes where applicable\n"
     ]
    }
   ],
   "source": [
    "spark = SparkSession.builder.master('local[*]').appName('Market Analysis').config('spark.ui.port', '4050').getOrCreate()"
   ]
  },
  {
   "cell_type": "code",
   "execution_count": 4,
   "metadata": {},
   "outputs": [],
   "source": [
    "schema = StructType(\n",
    "    [StructField('Row ID', IntegerType()),\n",
    "    StructField('Order ID', StringType()),\n",
    "    StructField('Order Date', DateType()),\n",
    "    StructField('Ship Date', DateType()),\n",
    "    StructField('Ship Mode', StringType()),\n",
    "    StructField('Customer ID', StringType()),\n",
    "    StructField('Customer Name', StringType()),\n",
    "    StructField('Segment', StringType()),\n",
    "    StructField('Country', StringType()),\n",
    "    StructField('City', StringType()),\n",
    "    StructField('State', StringType()),\n",
    "    StructField('Postal Code', StringType()),\n",
    "    StructField('Region', StringType()),\n",
    "    StructField('Product ID', StringType()),\n",
    "    StructField('Category', StringType()),\n",
    "    StructField('Sub-Category', StringType()),\n",
    "    StructField('Product Name', StringType()),\n",
    "    StructField('GMV', DoubleType()),\n",
    "    StructField('Units', IntegerType()),\n",
    "    StructField('Discount', DoubleType()),\n",
    "    StructField('Profit', DoubleType())]\n",
    ")"
   ]
  },
  {
   "cell_type": "code",
   "execution_count": 5,
   "metadata": {},
   "outputs": [],
   "source": [
    "raw_data = spark.read.format('csv')\\\n",
    "        .option('header', True)\\\n",
    "        .option('delimiter', ',')\\\n",
    "        .option('dateFormat', 'yyyy-MM-dd')\\\n",
    "        .schema(schema)\\\n",
    "        .load('./data/raw_data.csv')\n",
    "                    "
   ]
  },
  {
   "cell_type": "code",
   "execution_count": 6,
   "metadata": {},
   "outputs": [
    {
     "name": "stdout",
     "output_type": "stream",
     "text": [
      "+------+--------------+----------+----------+--------------+-----------+---------------+---------+-------------+---------------+----------+-----------+------+---------------+---------------+------------+-----------------------------------------------------------+--------+-----+--------+--------+\n",
      "|Row ID|Order ID      |Order Date|Ship Date |Ship Mode     |Customer ID|Customer Name  |Segment  |Country      |City           |State     |Postal Code|Region|Product ID     |Category       |Sub-Category|Product Name                                               |GMV     |Units|Discount|Profit  |\n",
      "+------+--------------+----------+----------+--------------+-----------+---------------+---------+-------------+---------------+----------+-----------+------+---------------+---------------+------------+-----------------------------------------------------------+--------+-----+--------+--------+\n",
      "|1     |CA-2016-152156|2016-11-08|2016-11-11|Second Class  |CG-12520   |Claire Gute    |Consumer |United States|Henderson      |Kentucky  |42420      |South |FUR-BO-10001798|Furniture      |Bookcases   |Bush Somerset Collection Bookcase                          |261.96  |2    |0.0     |41.9136 |\n",
      "|2     |CA-2016-152156|2016-11-08|2016-11-11|Second Class  |CG-12520   |Claire Gute    |Consumer |United States|Henderson      |Kentucky  |42420      |South |FUR-CH-10000454|Furniture      |Chairs      |Hon Deluxe Fabric Upholstered Stacking Chairs, Rounded Back|731.94  |3    |0.0     |220.0   |\n",
      "|3     |CA-2016-138688|2016-06-12|2016-06-16|Second Class  |DV-13045   |Darrin Van Huff|Corporate|United States|Los Angeles    |California|90036      |West  |OFF-LA-10000240|Office Supplies|Labels      |Self-Adhesive Address Labels for Typewriters by Universal  |14.62   |2    |0.0     |6.8714  |\n",
      "|4     |US-2015-108966|2015-10-11|2015-10-18|Standard Class|SO-20335   |Sean O'Donnell |Consumer |United States|Fort Lauderdale|Florida   |33311      |South |FUR-TA-10000577|Furniture      |Tables      |Bretford CR4500 Series Slim Rectangular Table              |957.5775|5    |0.45    |-383.031|\n",
      "|5     |US-2015-108966|2015-10-11|2015-10-18|Standard Class|SO-20335   |Sean O'Donnell |Consumer |United States|Fort Lauderdale|Florida   |33311      |South |OFF-ST-10000760|Office Supplies|Storage     |Eldon Fold 'N Roll Cart System                             |22.368  |2    |0.2     |2.5164  |\n",
      "+------+--------------+----------+----------+--------------+-----------+---------------+---------+-------------+---------------+----------+-----------+------+---------------+---------------+------------+-----------------------------------------------------------+--------+-----+--------+--------+\n",
      "only showing top 5 rows\n",
      "\n"
     ]
    }
   ],
   "source": [
    "raw_data.show(5, False)"
   ]
  },
  {
   "cell_type": "code",
   "execution_count": 7,
   "metadata": {},
   "outputs": [
    {
     "name": "stdout",
     "output_type": "stream",
     "text": [
      "root\n",
      " |-- Row ID: integer (nullable = true)\n",
      " |-- Order ID: string (nullable = true)\n",
      " |-- Order Date: date (nullable = true)\n",
      " |-- Ship Date: date (nullable = true)\n",
      " |-- Ship Mode: string (nullable = true)\n",
      " |-- Customer ID: string (nullable = true)\n",
      " |-- Customer Name: string (nullable = true)\n",
      " |-- Segment: string (nullable = true)\n",
      " |-- Country: string (nullable = true)\n",
      " |-- City: string (nullable = true)\n",
      " |-- State: string (nullable = true)\n",
      " |-- Postal Code: string (nullable = true)\n",
      " |-- Region: string (nullable = true)\n",
      " |-- Product ID: string (nullable = true)\n",
      " |-- Category: string (nullable = true)\n",
      " |-- Sub-Category: string (nullable = true)\n",
      " |-- Product Name: string (nullable = true)\n",
      " |-- GMV: double (nullable = true)\n",
      " |-- Units: integer (nullable = true)\n",
      " |-- Discount: double (nullable = true)\n",
      " |-- Profit: double (nullable = true)\n",
      "\n"
     ]
    }
   ],
   "source": [
    "raw_data.printSchema()"
   ]
  },
  {
   "cell_type": "code",
   "execution_count": 8,
   "metadata": {},
   "outputs": [
    {
     "data": {
      "text/html": [
       "<div>\n",
       "<style scoped>\n",
       "    .dataframe tbody tr th:only-of-type {\n",
       "        vertical-align: middle;\n",
       "    }\n",
       "\n",
       "    .dataframe tbody tr th {\n",
       "        vertical-align: top;\n",
       "    }\n",
       "\n",
       "    .dataframe thead th {\n",
       "        text-align: right;\n",
       "    }\n",
       "</style>\n",
       "<table border=\"1\" class=\"dataframe\">\n",
       "  <thead>\n",
       "    <tr style=\"text-align: right;\">\n",
       "      <th></th>\n",
       "      <th>Row ID</th>\n",
       "      <th>Order ID</th>\n",
       "      <th>Order Date</th>\n",
       "      <th>Ship Date</th>\n",
       "      <th>Ship Mode</th>\n",
       "      <th>Customer ID</th>\n",
       "      <th>Customer Name</th>\n",
       "      <th>Segment</th>\n",
       "      <th>Country</th>\n",
       "      <th>City</th>\n",
       "      <th>...</th>\n",
       "      <th>Postal Code</th>\n",
       "      <th>Region</th>\n",
       "      <th>Product ID</th>\n",
       "      <th>Category</th>\n",
       "      <th>Sub-Category</th>\n",
       "      <th>Product Name</th>\n",
       "      <th>GMV</th>\n",
       "      <th>Units</th>\n",
       "      <th>Discount</th>\n",
       "      <th>Profit</th>\n",
       "    </tr>\n",
       "  </thead>\n",
       "  <tbody>\n",
       "    <tr>\n",
       "      <th>0</th>\n",
       "      <td>1</td>\n",
       "      <td>CA-2016-152156</td>\n",
       "      <td>2016-11-08</td>\n",
       "      <td>2016-11-11</td>\n",
       "      <td>Second Class</td>\n",
       "      <td>CG-12520</td>\n",
       "      <td>Claire Gute</td>\n",
       "      <td>Consumer</td>\n",
       "      <td>United States</td>\n",
       "      <td>Henderson</td>\n",
       "      <td>...</td>\n",
       "      <td>42420</td>\n",
       "      <td>South</td>\n",
       "      <td>FUR-BO-10001798</td>\n",
       "      <td>Furniture</td>\n",
       "      <td>Bookcases</td>\n",
       "      <td>Bush Somerset Collection Bookcase</td>\n",
       "      <td>261.9600</td>\n",
       "      <td>2</td>\n",
       "      <td>0.00</td>\n",
       "      <td>41.9136</td>\n",
       "    </tr>\n",
       "    <tr>\n",
       "      <th>1</th>\n",
       "      <td>2</td>\n",
       "      <td>CA-2016-152156</td>\n",
       "      <td>2016-11-08</td>\n",
       "      <td>2016-11-11</td>\n",
       "      <td>Second Class</td>\n",
       "      <td>CG-12520</td>\n",
       "      <td>Claire Gute</td>\n",
       "      <td>Consumer</td>\n",
       "      <td>United States</td>\n",
       "      <td>Henderson</td>\n",
       "      <td>...</td>\n",
       "      <td>42420</td>\n",
       "      <td>South</td>\n",
       "      <td>FUR-CH-10000454</td>\n",
       "      <td>Furniture</td>\n",
       "      <td>Chairs</td>\n",
       "      <td>Hon Deluxe Fabric Upholstered Stacking Chairs,...</td>\n",
       "      <td>731.9400</td>\n",
       "      <td>3</td>\n",
       "      <td>0.00</td>\n",
       "      <td>220.0000</td>\n",
       "    </tr>\n",
       "    <tr>\n",
       "      <th>2</th>\n",
       "      <td>3</td>\n",
       "      <td>CA-2016-138688</td>\n",
       "      <td>2016-06-12</td>\n",
       "      <td>2016-06-16</td>\n",
       "      <td>Second Class</td>\n",
       "      <td>DV-13045</td>\n",
       "      <td>Darrin Van Huff</td>\n",
       "      <td>Corporate</td>\n",
       "      <td>United States</td>\n",
       "      <td>Los Angeles</td>\n",
       "      <td>...</td>\n",
       "      <td>90036</td>\n",
       "      <td>West</td>\n",
       "      <td>OFF-LA-10000240</td>\n",
       "      <td>Office Supplies</td>\n",
       "      <td>Labels</td>\n",
       "      <td>Self-Adhesive Address Labels for Typewriters b...</td>\n",
       "      <td>14.6200</td>\n",
       "      <td>2</td>\n",
       "      <td>0.00</td>\n",
       "      <td>6.8714</td>\n",
       "    </tr>\n",
       "    <tr>\n",
       "      <th>3</th>\n",
       "      <td>4</td>\n",
       "      <td>US-2015-108966</td>\n",
       "      <td>2015-10-11</td>\n",
       "      <td>2015-10-18</td>\n",
       "      <td>Standard Class</td>\n",
       "      <td>SO-20335</td>\n",
       "      <td>Sean O'Donnell</td>\n",
       "      <td>Consumer</td>\n",
       "      <td>United States</td>\n",
       "      <td>Fort Lauderdale</td>\n",
       "      <td>...</td>\n",
       "      <td>33311</td>\n",
       "      <td>South</td>\n",
       "      <td>FUR-TA-10000577</td>\n",
       "      <td>Furniture</td>\n",
       "      <td>Tables</td>\n",
       "      <td>Bretford CR4500 Series Slim Rectangular Table</td>\n",
       "      <td>957.5775</td>\n",
       "      <td>5</td>\n",
       "      <td>0.45</td>\n",
       "      <td>-383.0310</td>\n",
       "    </tr>\n",
       "    <tr>\n",
       "      <th>4</th>\n",
       "      <td>5</td>\n",
       "      <td>US-2015-108966</td>\n",
       "      <td>2015-10-11</td>\n",
       "      <td>2015-10-18</td>\n",
       "      <td>Standard Class</td>\n",
       "      <td>SO-20335</td>\n",
       "      <td>Sean O'Donnell</td>\n",
       "      <td>Consumer</td>\n",
       "      <td>United States</td>\n",
       "      <td>Fort Lauderdale</td>\n",
       "      <td>...</td>\n",
       "      <td>33311</td>\n",
       "      <td>South</td>\n",
       "      <td>OFF-ST-10000760</td>\n",
       "      <td>Office Supplies</td>\n",
       "      <td>Storage</td>\n",
       "      <td>Eldon Fold 'N Roll Cart System</td>\n",
       "      <td>22.3680</td>\n",
       "      <td>2</td>\n",
       "      <td>0.20</td>\n",
       "      <td>2.5164</td>\n",
       "    </tr>\n",
       "  </tbody>\n",
       "</table>\n",
       "<p>5 rows × 21 columns</p>\n",
       "</div>"
      ],
      "text/plain": [
       "   Row ID        Order ID  Order Date   Ship Date       Ship Mode Customer ID  \\\n",
       "0       1  CA-2016-152156  2016-11-08  2016-11-11    Second Class    CG-12520   \n",
       "1       2  CA-2016-152156  2016-11-08  2016-11-11    Second Class    CG-12520   \n",
       "2       3  CA-2016-138688  2016-06-12  2016-06-16    Second Class    DV-13045   \n",
       "3       4  US-2015-108966  2015-10-11  2015-10-18  Standard Class    SO-20335   \n",
       "4       5  US-2015-108966  2015-10-11  2015-10-18  Standard Class    SO-20335   \n",
       "\n",
       "     Customer Name    Segment        Country             City  ...  \\\n",
       "0      Claire Gute   Consumer  United States        Henderson  ...   \n",
       "1      Claire Gute   Consumer  United States        Henderson  ...   \n",
       "2  Darrin Van Huff  Corporate  United States      Los Angeles  ...   \n",
       "3   Sean O'Donnell   Consumer  United States  Fort Lauderdale  ...   \n",
       "4   Sean O'Donnell   Consumer  United States  Fort Lauderdale  ...   \n",
       "\n",
       "  Postal Code Region       Product ID         Category Sub-Category  \\\n",
       "0       42420  South  FUR-BO-10001798        Furniture    Bookcases   \n",
       "1       42420  South  FUR-CH-10000454        Furniture       Chairs   \n",
       "2       90036   West  OFF-LA-10000240  Office Supplies       Labels   \n",
       "3       33311  South  FUR-TA-10000577        Furniture       Tables   \n",
       "4       33311  South  OFF-ST-10000760  Office Supplies      Storage   \n",
       "\n",
       "                                        Product Name       GMV  Units  \\\n",
       "0                  Bush Somerset Collection Bookcase  261.9600      2   \n",
       "1  Hon Deluxe Fabric Upholstered Stacking Chairs,...  731.9400      3   \n",
       "2  Self-Adhesive Address Labels for Typewriters b...   14.6200      2   \n",
       "3      Bretford CR4500 Series Slim Rectangular Table  957.5775      5   \n",
       "4                     Eldon Fold 'N Roll Cart System   22.3680      2   \n",
       "\n",
       "   Discount    Profit  \n",
       "0      0.00   41.9136  \n",
       "1      0.00  220.0000  \n",
       "2      0.00    6.8714  \n",
       "3      0.45 -383.0310  \n",
       "4      0.20    2.5164  \n",
       "\n",
       "[5 rows x 21 columns]"
      ]
     },
     "execution_count": 8,
     "metadata": {},
     "output_type": "execute_result"
    }
   ],
   "source": [
    "raw_data.limit(5).toPandas()"
   ]
  },
  {
   "cell_type": "code",
   "execution_count": 9,
   "metadata": {},
   "outputs": [],
   "source": [
    "raw_data.createOrReplaceTempView(\"raw_data\")"
   ]
  },
  {
   "cell_type": "markdown",
   "metadata": {},
   "source": [
    "# Questão 1"
   ]
  },
  {
   "cell_type": "code",
   "execution_count": 34,
   "metadata": {},
   "outputs": [
    {
     "name": "stdout",
     "output_type": "stream",
     "text": [
      "+--------------+\n",
      "|Pedidos Unicos|\n",
      "+--------------+\n",
      "|          5009|\n",
      "+--------------+\n",
      "\n"
     ]
    }
   ],
   "source": [
    "df1 = spark.sql('''SELECT COUNT(DISTINCT `Order ID`) AS `Pedidos Unicos`\n",
    "                    FROM raw_data\n",
    "                    WHERE YEAR(`Order Date`) BETWEEN 2014 AND 2017''')\n",
    "df1.show()"
   ]
  },
  {
   "cell_type": "markdown",
   "metadata": {},
   "source": [
    "# Questão 2"
   ]
  },
  {
   "cell_type": "code",
   "execution_count": 46,
   "metadata": {},
   "outputs": [
    {
     "name": "stdout",
     "output_type": "stream",
     "text": [
      "+----------+--------------+------------------------------------------+--------+\n",
      "|Order Date|Customer Name |Product Name                              |Discount|\n",
      "+----------+--------------+------------------------------------------+--------+\n",
      "|2017-09-15|Doug O'Connell|\"Avery Trapezoid Ring Binder, 3\"\" Capacity|295.056 |\n",
      "+----------+--------------+------------------------------------------+--------+\n",
      "\n"
     ]
    }
   ],
   "source": [
    "df2 = spark.sql('''SELECT `Order Date`,\n",
    "                    `Customer Name`,\n",
    "                    `Product Name`,\n",
    "                    Discount\n",
    "                    FROM raw_data\n",
    "                    WHERE Discount = (SELECT MAX(Discount)\n",
    "                                        FROM raw_data)\n",
    "                    \n",
    "                    ''')\n",
    "df2.show(df2.count(), False)"
   ]
  },
  {
   "cell_type": "markdown",
   "metadata": {},
   "source": [
    "# Questão 3"
   ]
  },
  {
   "cell_type": "markdown",
   "metadata": {},
   "source": [
    "## A"
   ]
  },
  {
   "cell_type": "code",
   "execution_count": 31,
   "metadata": {},
   "outputs": [
    {
     "name": "stdout",
     "output_type": "stream",
     "text": [
      "+------------+--------------+\n",
      "|Sub-Category|Pedidos Unicos|\n",
      "+------------+--------------+\n",
      "|     Binders|          1316|\n",
      "|       Paper|          1191|\n",
      "| Furnishings|           877|\n",
      "|      Phones|           814|\n",
      "|     Storage|           777|\n",
      "+------------+--------------+\n",
      "\n"
     ]
    }
   ],
   "source": [
    "df3_top_sellers = spark.sql('''\n",
    "                    WITH top_produtos as (\n",
    "                    SELECT `Sub-Category`, \n",
    "                    COUNT(DISTINCT `Order ID`) as `Pedidos Unicos`\n",
    "                    FROM raw_data\n",
    "                    WHERE YEAR(`Order Date`) BETWEEN 2014 AND 2017\n",
    "                    GROUP BY `Sub-Category`\n",
    "                    ORDER BY 2 DESC\n",
    "                    )\n",
    "                    SELECT * FROM top_produtos\n",
    "                    LIMIT 5\n",
    "                    \n",
    "                    ''')\n",
    "df3_top_sellers.show()"
   ]
  },
  {
   "cell_type": "markdown",
   "metadata": {},
   "source": [
    "## B"
   ]
  },
  {
   "cell_type": "code",
   "execution_count": 36,
   "metadata": {},
   "outputs": [
    {
     "name": "stdout",
     "output_type": "stream",
     "text": [
      "+------------+------------------+\n",
      "|Sub-Category|         Total GMV|\n",
      "+------------+------------------+\n",
      "|      Phones| 329753.0880000001|\n",
      "|      Chairs|328449.10300000076|\n",
      "|     Storage|216803.21200000012|\n",
      "|      Tables| 206965.5320000001|\n",
      "|     Binders|199905.71700000006|\n",
      "+------------+------------------+\n",
      "\n"
     ]
    }
   ],
   "source": [
    "df3_top_gmv = spark.sql('''\n",
    "                    WITH top_produtos as (\n",
    "                    SELECT `Sub-Category`, \n",
    "                    SUM(GMV) as `Total GMV`\n",
    "                    FROM raw_data\n",
    "                    WHERE YEAR(`Order Date`) BETWEEN 2014 AND 2017\n",
    "                    GROUP BY `Sub-Category`\n",
    "                    ORDER BY 2 DESC\n",
    "                    )\n",
    "                    SELECT * FROM top_produtos\n",
    "                    LIMIT 5\n",
    "                    \n",
    "                    ''')\n",
    "df3_top_gmv.show()"
   ]
  },
  {
   "cell_type": "markdown",
   "metadata": {},
   "source": [
    "# Questão 4"
   ]
  },
  {
   "cell_type": "markdown",
   "metadata": {},
   "source": [
    "## A"
   ]
  },
  {
   "cell_type": "code",
   "execution_count": 35,
   "metadata": {},
   "outputs": [
    {
     "name": "stdout",
     "output_type": "stream",
     "text": [
      "+---------------+\n",
      "|Produtos Unicos|\n",
      "+---------------+\n",
      "|           1862|\n",
      "+---------------+\n",
      "\n"
     ]
    }
   ],
   "source": [
    "df4_unique_products = spark.sql('''\n",
    "                    SELECT COUNT(DISTINCT `Product ID`) AS `Produtos Unicos`\n",
    "                    FROM raw_data\n",
    "                    ''')\n",
    "df4_unique_products.show()"
   ]
  },
  {
   "cell_type": "markdown",
   "metadata": {},
   "source": [
    "## B"
   ]
  },
  {
   "cell_type": "code",
   "execution_count": 42,
   "metadata": {},
   "outputs": [
    {
     "name": "stdout",
     "output_type": "stream",
     "text": [
      "+---------------+-----------+\n",
      "|     Product ID|Total Units|\n",
      "+---------------+-----------+\n",
      "|TEC-AC-10003832|         75|\n",
      "|OFF-PA-10001970|         70|\n",
      "|OFF-BI-10001524|         67|\n",
      "|FUR-CH-10002647|         64|\n",
      "|OFF-BI-10002026|         64|\n",
      "|FUR-TA-10001095|         61|\n",
      "|TEC-AC-10002049|         60|\n",
      "|OFF-BI-10004728|         59|\n",
      "|FUR-CH-10003774|         59|\n",
      "|FUR-FU-10001473|         57|\n",
      "+---------------+-----------+\n",
      "\n"
     ]
    }
   ],
   "source": [
    "df4_top_products = spark.sql('''\n",
    "                    WITH top_produtos as (\n",
    "                    SELECT `Product ID`, \n",
    "                    SUM(Units) as `Total Units`\n",
    "                    FROM raw_data\n",
    "                    WHERE YEAR(`Order Date`) BETWEEN 2014 AND 2017\n",
    "                    GROUP BY `Product ID`\n",
    "                    ORDER BY 2 DESC\n",
    "                    )\n",
    "                    SELECT * FROM top_produtos\n",
    "                    LIMIT 10\n",
    "                    \n",
    "                    ''')\n",
    "df4_top_products.show()"
   ]
  },
  {
   "cell_type": "markdown",
   "metadata": {},
   "source": [
    "# Questão 5"
   ]
  },
  {
   "cell_type": "markdown",
   "metadata": {},
   "source": [
    "## A"
   ]
  },
  {
   "cell_type": "code",
   "execution_count": 39,
   "metadata": {},
   "outputs": [
    {
     "name": "stdout",
     "output_type": "stream",
     "text": [
      "+---------------+\n",
      "|Clientes Unicos|\n",
      "+---------------+\n",
      "|            793|\n",
      "+---------------+\n",
      "\n"
     ]
    }
   ],
   "source": [
    "df5_unique_customers = spark.sql('''\n",
    "                    SELECT COUNT(DISTINCT `Customer ID`) AS `Clientes Unicos`\n",
    "                    FROM raw_data\n",
    "                    \n",
    "                    ''')\n",
    "df5_unique_customers.show()"
   ]
  },
  {
   "cell_type": "markdown",
   "metadata": {},
   "source": [
    "## B"
   ]
  },
  {
   "cell_type": "code",
   "execution_count": 41,
   "metadata": {},
   "outputs": [
    {
     "name": "stdout",
     "output_type": "stream",
     "text": [
      "+-----------+------------------+\n",
      "|Customer ID|         Total GMV|\n",
      "+-----------+------------------+\n",
      "|   SM-20320|          25043.05|\n",
      "|   TC-20980|19017.847999999998|\n",
      "|   RB-19360|         15117.339|\n",
      "|   TA-21385|          14595.62|\n",
      "|   AB-10105|14355.610999999997|\n",
      "|   SC-20095|14142.333999999999|\n",
      "|   KL-16645|         14071.917|\n",
      "|   HL-15040|12873.297999999999|\n",
      "|   SE-20110|12209.438000000002|\n",
      "|   CC-12370|         12129.072|\n",
      "+-----------+------------------+\n",
      "\n"
     ]
    }
   ],
   "source": [
    "df5_top_customers = spark.sql('''\n",
    "                    WITH top_clientes as (\n",
    "                    SELECT `Customer ID`, \n",
    "                    SUM(GMV) as `Total GMV`\n",
    "                    FROM raw_data\n",
    "                    WHERE YEAR(`Order Date`) BETWEEN 2014 AND 2017\n",
    "                    GROUP BY `Customer ID`\n",
    "                    ORDER BY 2 DESC\n",
    "                    )\n",
    "                    SELECT * FROM top_clientes\n",
    "                    LIMIT 10\n",
    "                    \n",
    "                    ''')\n",
    "df5_top_customers.show()"
   ]
  }
 ],
 "metadata": {
  "interpreter": {
   "hash": "9a110e4c3bb7c1fafc14633240fc597ec9101b75fb08d284156aeb9c13fe10d2"
  },
  "kernelspec": {
   "display_name": "Python 3 (ipykernel)",
   "language": "python",
   "name": "python3"
  },
  "language_info": {
   "codemirror_mode": {
    "name": "ipython",
    "version": 3
   },
   "file_extension": ".py",
   "mimetype": "text/x-python",
   "name": "python",
   "nbconvert_exporter": "python",
   "pygments_lexer": "ipython3",
   "version": "3.9.7"
  }
 },
 "nbformat": 4,
 "nbformat_minor": 2
}
